{
 "cells": [
  {
   "cell_type": "markdown",
   "metadata": {},
   "source": [
    "# Assignment 2"
   ]
  },
  {
   "cell_type": "markdown",
   "metadata": {},
   "source": [
    "Write a Python Program to implement your own myreduce() function which works exactly like\n",
    "Python's built-in function reduce()"
   ]
  },
  {
   "cell_type": "code",
   "execution_count": 2,
   "metadata": {},
   "outputs": [],
   "source": [
    "def myreduce(func,a):\n",
    "    k=a[0]\n",
    "    for i in range(1,len(a)):\n",
    "        k=func(k,a[i])\n",
    "    print(k)"
   ]
  },
  {
   "cell_type": "code",
   "execution_count": 3,
   "metadata": {},
   "outputs": [
    {
     "name": "stdout",
     "output_type": "stream",
     "text": [
      "6\n"
     ]
    }
   ],
   "source": [
    "myreduce(lambda x,y: x+y,[1,2,3])"
   ]
  },
  {
   "cell_type": "markdown",
   "metadata": {},
   "source": [
    "Write a Python program to implement your own myfilter() function which works exactly like\n",
    "Python's built-in function filter()"
   ]
  },
  {
   "cell_type": "code",
   "execution_count": 4,
   "metadata": {},
   "outputs": [],
   "source": [
    "def myfilter(func,a):\n",
    "    for i in a:\n",
    "        if func(i) == True:\n",
    "            yield i \n",
    "        "
   ]
  },
  {
   "cell_type": "code",
   "execution_count": 5,
   "metadata": {},
   "outputs": [
    {
     "data": {
      "text/plain": [
       "<generator object myfilter at 0x00000217A8D0BF48>"
      ]
     },
     "execution_count": 5,
     "metadata": {},
     "output_type": "execute_result"
    }
   ],
   "source": [
    "myfilter(lambda x: x>3,[1,2,3])"
   ]
  },
  {
   "cell_type": "markdown",
   "metadata": {},
   "source": [
    "Implement List comprehensions to produce the following lists.\n",
    "Write List comprehensions to produce the following Lists\n",
    "['A', 'C', 'A', 'D', 'G', 'I', ’L’, ‘ D’]\n",
    "['x', 'xx', 'xxx', 'xxxx', 'y', 'yy', 'yyy', 'yyyy', 'z', 'zz', 'zzz', 'zzzz']\n",
    "['x', 'y', 'z', 'xx', 'yy', 'zz', 'xx', 'yy', 'zz', 'xxxx', 'yyyy', 'zzzz']\n",
    "[[2], [3], [4], [3], [4], [5], [4], [5], [6]]\n",
    "[[2, 3, 4, 5], [3, 4, 5, 6], [4, 5, 6, 7], [5, 6, 7, 8]]\n",
    "[(1, 1), (2, 1), (3, 1), (1, 2), (2, 2), (3, 2), (1, 3), (2, 3), (3, 3)]"
   ]
  },
  {
   "cell_type": "code",
   "execution_count": 6,
   "metadata": {},
   "outputs": [
    {
     "data": {
      "text/plain": [
       "[(1, 1), (2, 1), (3, 1), (1, 2), (2, 2), (3, 2), (1, 3), (2, 3), (3, 3)]"
      ]
     },
     "execution_count": 6,
     "metadata": {},
     "output_type": "execute_result"
    }
   ],
   "source": [
    "[i for i in ['A', 'C', 'A', 'D', 'G', 'I', 'L', 'D']]\n",
    "[i*j for i in [\"x\",\"y\",\"z\"] for j in range(1,5)]\n",
    "[i*j for j in range(1,5)  for i in [\"x\",\"y\",\"z\"]]\n",
    "[[i+j] for i in [1,2,3] for j in [1,2,3]]\n",
    "[((i,j+1)) for j in [0,1,2] for i in [1,2,3] ]"
   ]
  },
  {
   "cell_type": "code",
   "execution_count": 7,
   "metadata": {},
   "outputs": [
    {
     "data": {
      "text/plain": [
       "['A', 'C', 'A', 'D', 'G', 'I', 'L', 'D']"
      ]
     },
     "execution_count": 7,
     "metadata": {},
     "output_type": "execute_result"
    }
   ],
   "source": [
    "[i for i in ['A', 'C', 'A', 'D', 'G', 'I', 'L', 'D']]"
   ]
  },
  {
   "cell_type": "code",
   "execution_count": 8,
   "metadata": {},
   "outputs": [
    {
     "data": {
      "text/plain": [
       "['x', 'xx', 'xxx', 'xxxx', 'y', 'yy', 'yyy', 'yyyy', 'z', 'zz', 'zzz', 'zzzz']"
      ]
     },
     "execution_count": 8,
     "metadata": {},
     "output_type": "execute_result"
    }
   ],
   "source": [
    "[i*j for i in [\"x\",\"y\",\"z\"] for j in range(1,5)]"
   ]
  },
  {
   "cell_type": "code",
   "execution_count": 9,
   "metadata": {},
   "outputs": [
    {
     "data": {
      "text/plain": [
       "['x', 'y', 'z', 'xx', 'yy', 'zz', 'xxx', 'yyy', 'zzz', 'xxxx', 'yyyy', 'zzzz']"
      ]
     },
     "execution_count": 9,
     "metadata": {},
     "output_type": "execute_result"
    }
   ],
   "source": [
    "[i*j for j in range(1,5)  for i in [\"x\",\"y\",\"z\"]]"
   ]
  },
  {
   "cell_type": "code",
   "execution_count": 10,
   "metadata": {},
   "outputs": [
    {
     "data": {
      "text/plain": [
       "[[2], [3], [4], [3], [4], [5], [4], [5], [6]]"
      ]
     },
     "execution_count": 10,
     "metadata": {},
     "output_type": "execute_result"
    }
   ],
   "source": [
    "[[i+j] for i in [1,2,3] for j in [1,2,3]]"
   ]
  },
  {
   "cell_type": "code",
   "execution_count": 11,
   "metadata": {},
   "outputs": [
    {
     "data": {
      "text/plain": [
       "[(1, 1), (2, 1), (3, 1), (1, 2), (2, 2), (3, 2), (1, 3), (2, 3), (3, 3)]"
      ]
     },
     "execution_count": 11,
     "metadata": {},
     "output_type": "execute_result"
    }
   ],
   "source": [
    "[((i,j+1)) for j in [0,1,2] for i in [1,2,3] ]"
   ]
  },
  {
   "cell_type": "markdown",
   "metadata": {},
   "source": [
    "Implement a function longestWord() that takes a list of words and returns the longest one."
   ]
  },
  {
   "cell_type": "code",
   "execution_count": 12,
   "metadata": {},
   "outputs": [
    {
     "name": "stdout",
     "output_type": "stream",
     "text": [
      "enter words,  press + to stop input: a\n",
      "enter words,  press + to stop input: ab\n",
      "enter words,  press + to stop input: acd\n",
      "enter words,  press + to stop input: aefd\n",
      "enter words,  press + to stop input: +\n",
      "['a', 'ab', 'acd', 'aefd']\n",
      "longest word size:  4 \n",
      " longest word:  aefd\n"
     ]
    }
   ],
   "source": [
    "def longestword():\n",
    "    a=[]\n",
    "    while True:\n",
    "        k=input(\"enter words,  press + to stop input: \")\n",
    "        if k==\"+\":\n",
    "            break\n",
    "        else:\n",
    "            a.append(k)\n",
    "    print(a)\n",
    "    k1=0\n",
    "    k2=0\n",
    "    for i in a:\n",
    "        if(len(i)>k1):\n",
    "            k1=len(i)\n",
    "            k2=i\n",
    "    print(\"longest word size: \",k1,\"\\n longest word: \",k2)\n",
    "longestword()"
   ]
  },
  {
   "cell_type": "markdown",
   "metadata": {},
   "source": [
    "Write a Python Program(with class concepts) to find the area of the triangle using the below\n",
    "formula.\n",
    "area = (s*(s-a)*(s-b)*(s-c)) ** 0.5\n",
    "Function to take the length of the sides of triangle from user should be defined in the parent\n",
    "class and function to calculate the area should be defined in subclass."
   ]
  },
  {
   "cell_type": "code",
   "execution_count": 13,
   "metadata": {},
   "outputs": [
    {
     "name": "stdout",
     "output_type": "stream",
     "text": [
      "Enter length of first side : 15\n",
      "Enter length of second side : 13\n",
      "Enter length of third side : 18\n",
      "area =  95.91663046625439\n"
     ]
    }
   ],
   "source": [
    "class Triangle:\n",
    "\n",
    "    def __init__(self, a, b, c):\n",
    "        \n",
    "        self.side1 = a \n",
    "        self.side2 = b\n",
    "        self.side3 = c\n",
    "       \n",
    "    def area(self):\n",
    "        \n",
    "        s = (self.side1+self.side2+self.side3) / 2\n",
    "        area = (s*(s-self.side1)*(s-self.side2)*(s-self.side3)) ** 0.5\n",
    "        return area\n",
    "\n",
    "side1 = float(input(\"Enter length of first side : \"))\n",
    "side2 = float(input(\"Enter length of second side : \"))\n",
    "side3 = float(input(\"Enter length of third side : \"))\n",
    "\n",
    "t1 = Triangle(side1,side2,side3)\n",
    "print('area = ', t1.area())\n"
   ]
  },
  {
   "cell_type": "markdown",
   "metadata": {},
   "source": [
    "Write a function filter_long_words() that takes a list of words and an integer n and returns the list\n",
    "of words that are longer than n."
   ]
  },
  {
   "cell_type": "code",
   "execution_count": 14,
   "metadata": {},
   "outputs": [],
   "source": [
    "def filter_long_words():\n",
    "    a=[]\n",
    "    while True:\n",
    "        k=input(\"enter words press + to stop: \")\n",
    "        if k==\"+\":\n",
    "            break\n",
    "        else:\n",
    "            a.append(k)\n",
    "            \n",
    "    m = int(input(\"enter number of maximum size of the word\"))\n",
    "    for i in a:\n",
    "        if(len(i)>m):\n",
    "            print(i)\n",
    "        "
   ]
  },
  {
   "cell_type": "code",
   "execution_count": 15,
   "metadata": {},
   "outputs": [
    {
     "name": "stdout",
     "output_type": "stream",
     "text": [
      "enter words press + to stop: a\n",
      "enter words press + to stop: bc\n",
      "enter words press + to stop: cde\n",
      "enter words press + to stop: efghij\n",
      "enter words press + to stop: +\n",
      "enter number of maximum size of the word2\n",
      "cde\n",
      "efghij\n"
     ]
    }
   ],
   "source": [
    "filter_long_words()"
   ]
  },
  {
   "cell_type": "markdown",
   "metadata": {},
   "source": [
    "Write a Python program using function concept that maps list of words into a list of integers\n",
    "representing the lengths of the corresponding words .\n",
    "Hint: If a list [ ab,cde,erty] is passed on to the python function output should come as [2,3,4]\n",
    "Here 2,3 and 4 are the lengths of the words in the list."
   ]
  },
  {
   "cell_type": "code",
   "execution_count": 16,
   "metadata": {},
   "outputs": [],
   "source": [
    "def list_len():\n",
    "    a=[]\n",
    "    while True:\n",
    "        k=input(\"enter words press + to stop: \")\n",
    "        if k==\"+\":\n",
    "            break\n",
    "        else:\n",
    "            a.append(k)\n",
    "          \n",
    "    k1=[]\n",
    "    for i in a:\n",
    "        k1.append(len(i))\n",
    "\n",
    "    print(a)\n",
    "    print(k1)\n",
    "    "
   ]
  },
  {
   "cell_type": "code",
   "execution_count": 17,
   "metadata": {},
   "outputs": [
    {
     "name": "stdout",
     "output_type": "stream",
     "text": [
      "enter words press + to stop: a\n",
      "enter words press + to stop: ab\n",
      "enter words press + to stop: abc\n",
      "enter words press + to stop: abcd\n",
      "enter words press + to stop: +\n",
      "['a', 'ab', 'abc', 'abcd']\n",
      "[1, 2, 3, 4]\n"
     ]
    }
   ],
   "source": [
    "list_len()"
   ]
  },
  {
   "cell_type": "markdown",
   "metadata": {},
   "source": [
    "Write a Python function which takes a character (i.e. a string of length 1) and returns True if it is\n",
    "a vowel, False otherwise."
   ]
  },
  {
   "cell_type": "code",
   "execution_count": 18,
   "metadata": {},
   "outputs": [],
   "source": [
    "def checkletter():\n",
    "        k=input(\"enter a letter: \")\n",
    "        if (len(k)>1):\n",
    "            print(\"pleas enter a letter \")\n",
    "            k=None\n",
    "        elif(k in [\"a\",\"e\",\"i\",\"o\",\"u\"]):\n",
    "            print(\"True : its Vowel\")\n",
    "        else:\n",
    "            print(\"False : it not a Vowel\")"
   ]
  },
  {
   "cell_type": "code",
   "execution_count": 20,
   "metadata": {},
   "outputs": [
    {
     "name": "stdout",
     "output_type": "stream",
     "text": [
      "enter a letter: g\n",
      "False : it not a Vowel\n"
     ]
    }
   ],
   "source": [
    "checkletter()"
   ]
  },
  {
   "cell_type": "code",
   "execution_count": null,
   "metadata": {},
   "outputs": [],
   "source": []
  }
 ],
 "metadata": {
  "kernelspec": {
   "display_name": "Python 3",
   "language": "python",
   "name": "python3"
  },
  "language_info": {
   "codemirror_mode": {
    "name": "ipython",
    "version": 3
   },
   "file_extension": ".py",
   "mimetype": "text/x-python",
   "name": "python",
   "nbconvert_exporter": "python",
   "pygments_lexer": "ipython3",
   "version": "3.7.3"
  }
 },
 "nbformat": 4,
 "nbformat_minor": 2
}
